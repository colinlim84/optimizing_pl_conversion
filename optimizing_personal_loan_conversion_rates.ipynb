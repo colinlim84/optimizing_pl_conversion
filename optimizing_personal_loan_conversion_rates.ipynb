{
 "cells": [
  {
   "cell_type": "markdown",
   "id": "31910aed",
   "metadata": {},
   "source": [
    "#  Personal Loan Conversion Optimization\n",
    "\n",
    "Obj : Leverage on Machine Learning Model for better target marketing, so as to increase success ratio for Personal Loan with minimal budget"
   ]
  },
  {
   "cell_type": "markdown",
   "id": "e11e58cd",
   "metadata": {},
   "source": [
    "## Import necessary modules"
   ]
  },
  {
   "cell_type": "code",
   "execution_count": 1,
   "id": "b9bafece",
   "metadata": {},
   "outputs": [],
   "source": [
    "import pandas as pd\n",
    "import numpy as np\n",
    "import seaborn as sns\n",
    "import matplotlib.pyplot as plt\n",
    "\n",
    "from sklearn.linear_model import LogisticRegression\n",
    "from sklearn.tree import DecisionTreeClassifier, plot_tree\n",
    "from sklearn.ensemble import RandomForestClassifier\n",
    "from sklearn.model_selection import train_test_split, cross_val_score, GridSearchCV\n",
    "from sklearn.metrics import classification_report, confusion_matrix"
   ]
  },
  {
   "cell_type": "markdown",
   "id": "dd5e31fb",
   "metadata": {},
   "source": [
    "## Import raw data"
   ]
  },
  {
   "cell_type": "code",
   "execution_count": 2,
   "id": "0267ef65",
   "metadata": {},
   "outputs": [],
   "source": [
    "df = pd.read_excel('~/Downloads/DS_assessment.xlsx', sheet_name='Data')"
   ]
  },
  {
   "cell_type": "markdown",
   "id": "5f8ea3ac",
   "metadata": {},
   "source": [
    "# Explorative Data Analysis"
   ]
  },
  {
   "cell_type": "code",
   "execution_count": 3,
   "id": "f037ffcc",
   "metadata": {},
   "outputs": [
    {
     "data": {
      "text/html": [
       "<div>\n",
       "<style scoped>\n",
       "    .dataframe tbody tr th:only-of-type {\n",
       "        vertical-align: middle;\n",
       "    }\n",
       "\n",
       "    .dataframe tbody tr th {\n",
       "        vertical-align: top;\n",
       "    }\n",
       "\n",
       "    .dataframe thead th {\n",
       "        text-align: right;\n",
       "    }\n",
       "</style>\n",
       "<table border=\"1\" class=\"dataframe\">\n",
       "  <thead>\n",
       "    <tr style=\"text-align: right;\">\n",
       "      <th></th>\n",
       "      <th>ID</th>\n",
       "      <th>Age</th>\n",
       "      <th>Experience</th>\n",
       "      <th>Income</th>\n",
       "      <th>Postal Code</th>\n",
       "      <th>Family Size</th>\n",
       "      <th>CCAvgSpending</th>\n",
       "      <th>Education</th>\n",
       "      <th>Mortgage</th>\n",
       "      <th>Investment Account</th>\n",
       "      <th>Deposit Account</th>\n",
       "      <th>InternetBanking</th>\n",
       "      <th>Personal Loan</th>\n",
       "    </tr>\n",
       "  </thead>\n",
       "  <tbody>\n",
       "    <tr>\n",
       "      <th>0</th>\n",
       "      <td>1</td>\n",
       "      <td>25</td>\n",
       "      <td>1</td>\n",
       "      <td>49.0</td>\n",
       "      <td>91107</td>\n",
       "      <td>4.0</td>\n",
       "      <td>1.6</td>\n",
       "      <td>Undergrad</td>\n",
       "      <td>0</td>\n",
       "      <td>1</td>\n",
       "      <td>0</td>\n",
       "      <td>NO</td>\n",
       "      <td>NO</td>\n",
       "    </tr>\n",
       "    <tr>\n",
       "      <th>1</th>\n",
       "      <td>2</td>\n",
       "      <td>45</td>\n",
       "      <td>19</td>\n",
       "      <td>34.0</td>\n",
       "      <td>90089</td>\n",
       "      <td>3.0</td>\n",
       "      <td>1.5</td>\n",
       "      <td>Undergrad</td>\n",
       "      <td>0</td>\n",
       "      <td>1</td>\n",
       "      <td>0</td>\n",
       "      <td>NO</td>\n",
       "      <td>NO</td>\n",
       "    </tr>\n",
       "    <tr>\n",
       "      <th>2</th>\n",
       "      <td>3</td>\n",
       "      <td>39</td>\n",
       "      <td>15</td>\n",
       "      <td>11.0</td>\n",
       "      <td>94720</td>\n",
       "      <td>1.0</td>\n",
       "      <td>1.0</td>\n",
       "      <td>Undergrad</td>\n",
       "      <td>0</td>\n",
       "      <td>0</td>\n",
       "      <td>0</td>\n",
       "      <td>NO</td>\n",
       "      <td>NO</td>\n",
       "    </tr>\n",
       "    <tr>\n",
       "      <th>3</th>\n",
       "      <td>4</td>\n",
       "      <td>35</td>\n",
       "      <td>9</td>\n",
       "      <td>NaN</td>\n",
       "      <td>94112</td>\n",
       "      <td>1.0</td>\n",
       "      <td>2.7</td>\n",
       "      <td>Graduate</td>\n",
       "      <td>0</td>\n",
       "      <td>0</td>\n",
       "      <td>0</td>\n",
       "      <td>NO</td>\n",
       "      <td>NO</td>\n",
       "    </tr>\n",
       "    <tr>\n",
       "      <th>4</th>\n",
       "      <td>5</td>\n",
       "      <td>35</td>\n",
       "      <td>8</td>\n",
       "      <td>45.0</td>\n",
       "      <td>91330</td>\n",
       "      <td>4.0</td>\n",
       "      <td>1.0</td>\n",
       "      <td>Graduate</td>\n",
       "      <td>0</td>\n",
       "      <td>0</td>\n",
       "      <td>0</td>\n",
       "      <td>NO</td>\n",
       "      <td>NO</td>\n",
       "    </tr>\n",
       "  </tbody>\n",
       "</table>\n",
       "</div>"
      ],
      "text/plain": [
       "   ID  Age  Experience  Income  Postal Code  Family Size  CCAvgSpending  \\\n",
       "0   1   25           1    49.0        91107          4.0            1.6   \n",
       "1   2   45          19    34.0        90089          3.0            1.5   \n",
       "2   3   39          15    11.0        94720          1.0            1.0   \n",
       "3   4   35           9     NaN        94112          1.0            2.7   \n",
       "4   5   35           8    45.0        91330          4.0            1.0   \n",
       "\n",
       "   Education  Mortgage  Investment Account  Deposit Account InternetBanking  \\\n",
       "0  Undergrad         0                   1                0              NO   \n",
       "1  Undergrad         0                   1                0              NO   \n",
       "2  Undergrad         0                   0                0              NO   \n",
       "3   Graduate         0                   0                0              NO   \n",
       "4   Graduate         0                   0                0              NO   \n",
       "\n",
       "  Personal Loan  \n",
       "0            NO  \n",
       "1            NO  \n",
       "2            NO  \n",
       "3            NO  \n",
       "4            NO  "
      ]
     },
     "execution_count": 3,
     "metadata": {},
     "output_type": "execute_result"
    }
   ],
   "source": [
    "df.head()"
   ]
  },
  {
   "cell_type": "code",
   "execution_count": 4,
   "id": "fd6df308",
   "metadata": {},
   "outputs": [
    {
     "data": {
      "text/plain": [
       "0"
      ]
     },
     "execution_count": 4,
     "metadata": {},
     "output_type": "execute_result"
    }
   ],
   "source": [
    "#Check for duplicated row, 0 denotes no duplication\n",
    "\n",
    "df.duplicated().sum()"
   ]
  },
  {
   "cell_type": "code",
   "execution_count": 5,
   "id": "aa4a04f5",
   "metadata": {},
   "outputs": [
    {
     "name": "stdout",
     "output_type": "stream",
     "text": [
      "Education\n",
      "['Undergrad' 'Graduate' 'Advanced Degree']\n",
      "\n",
      "\n",
      "InternetBanking\n",
      "['NO' 'YES']\n",
      "\n",
      "\n",
      "Personal Loan\n",
      "['NO' 'YES']\n",
      "\n",
      "\n"
     ]
    }
   ],
   "source": [
    "#For the categorical columns, print all the unique values\n",
    "\n",
    "for i in df.select_dtypes(include='object').columns.to_list() :\n",
    "    print(i)\n",
    "    print(df[i].unique())\n",
    "    print('\\n')"
   ]
  },
  {
   "cell_type": "code",
   "execution_count": 6,
   "id": "7e84df1d",
   "metadata": {},
   "outputs": [
    {
     "data": {
      "text/html": [
       "<div>\n",
       "<style scoped>\n",
       "    .dataframe tbody tr th:only-of-type {\n",
       "        vertical-align: middle;\n",
       "    }\n",
       "\n",
       "    .dataframe tbody tr th {\n",
       "        vertical-align: top;\n",
       "    }\n",
       "\n",
       "    .dataframe thead th {\n",
       "        text-align: right;\n",
       "    }\n",
       "</style>\n",
       "<table border=\"1\" class=\"dataframe\">\n",
       "  <thead>\n",
       "    <tr style=\"text-align: right;\">\n",
       "      <th></th>\n",
       "      <th>ID</th>\n",
       "      <th>Age</th>\n",
       "      <th>Experience</th>\n",
       "      <th>Income</th>\n",
       "      <th>Postal Code</th>\n",
       "      <th>Family Size</th>\n",
       "      <th>CCAvgSpending</th>\n",
       "      <th>Mortgage</th>\n",
       "      <th>Investment Account</th>\n",
       "      <th>Deposit Account</th>\n",
       "    </tr>\n",
       "  </thead>\n",
       "  <tbody>\n",
       "    <tr>\n",
       "      <th>count</th>\n",
       "      <td>5000.000000</td>\n",
       "      <td>5000.000000</td>\n",
       "      <td>5000.000000</td>\n",
       "      <td>4980.000000</td>\n",
       "      <td>5000.000000</td>\n",
       "      <td>4991.000000</td>\n",
       "      <td>5000.000000</td>\n",
       "      <td>5000.000000</td>\n",
       "      <td>5000.000000</td>\n",
       "      <td>5000.00000</td>\n",
       "    </tr>\n",
       "    <tr>\n",
       "      <th>mean</th>\n",
       "      <td>2500.500000</td>\n",
       "      <td>45.338400</td>\n",
       "      <td>20.104600</td>\n",
       "      <td>73.840361</td>\n",
       "      <td>93152.503000</td>\n",
       "      <td>2.396714</td>\n",
       "      <td>1.937938</td>\n",
       "      <td>56.498800</td>\n",
       "      <td>0.104400</td>\n",
       "      <td>0.06040</td>\n",
       "    </tr>\n",
       "    <tr>\n",
       "      <th>std</th>\n",
       "      <td>1443.520003</td>\n",
       "      <td>11.463166</td>\n",
       "      <td>11.467954</td>\n",
       "      <td>46.079300</td>\n",
       "      <td>2121.852197</td>\n",
       "      <td>1.148189</td>\n",
       "      <td>1.747659</td>\n",
       "      <td>101.713802</td>\n",
       "      <td>0.305809</td>\n",
       "      <td>0.23825</td>\n",
       "    </tr>\n",
       "    <tr>\n",
       "      <th>min</th>\n",
       "      <td>1.000000</td>\n",
       "      <td>23.000000</td>\n",
       "      <td>-3.000000</td>\n",
       "      <td>8.000000</td>\n",
       "      <td>9307.000000</td>\n",
       "      <td>1.000000</td>\n",
       "      <td>0.000000</td>\n",
       "      <td>0.000000</td>\n",
       "      <td>0.000000</td>\n",
       "      <td>0.00000</td>\n",
       "    </tr>\n",
       "    <tr>\n",
       "      <th>25%</th>\n",
       "      <td>1250.750000</td>\n",
       "      <td>35.000000</td>\n",
       "      <td>10.000000</td>\n",
       "      <td>39.000000</td>\n",
       "      <td>91911.000000</td>\n",
       "      <td>1.000000</td>\n",
       "      <td>0.700000</td>\n",
       "      <td>0.000000</td>\n",
       "      <td>0.000000</td>\n",
       "      <td>0.00000</td>\n",
       "    </tr>\n",
       "    <tr>\n",
       "      <th>50%</th>\n",
       "      <td>2500.500000</td>\n",
       "      <td>45.000000</td>\n",
       "      <td>20.000000</td>\n",
       "      <td>64.000000</td>\n",
       "      <td>93437.000000</td>\n",
       "      <td>2.000000</td>\n",
       "      <td>1.500000</td>\n",
       "      <td>0.000000</td>\n",
       "      <td>0.000000</td>\n",
       "      <td>0.00000</td>\n",
       "    </tr>\n",
       "    <tr>\n",
       "      <th>75%</th>\n",
       "      <td>3750.250000</td>\n",
       "      <td>55.000000</td>\n",
       "      <td>30.000000</td>\n",
       "      <td>98.000000</td>\n",
       "      <td>94608.000000</td>\n",
       "      <td>3.000000</td>\n",
       "      <td>2.500000</td>\n",
       "      <td>101.000000</td>\n",
       "      <td>0.000000</td>\n",
       "      <td>0.00000</td>\n",
       "    </tr>\n",
       "    <tr>\n",
       "      <th>max</th>\n",
       "      <td>5000.000000</td>\n",
       "      <td>67.000000</td>\n",
       "      <td>43.000000</td>\n",
       "      <td>224.000000</td>\n",
       "      <td>96651.000000</td>\n",
       "      <td>4.000000</td>\n",
       "      <td>10.000000</td>\n",
       "      <td>635.000000</td>\n",
       "      <td>1.000000</td>\n",
       "      <td>1.00000</td>\n",
       "    </tr>\n",
       "  </tbody>\n",
       "</table>\n",
       "</div>"
      ],
      "text/plain": [
       "                ID          Age   Experience       Income   Postal Code  \\\n",
       "count  5000.000000  5000.000000  5000.000000  4980.000000   5000.000000   \n",
       "mean   2500.500000    45.338400    20.104600    73.840361  93152.503000   \n",
       "std    1443.520003    11.463166    11.467954    46.079300   2121.852197   \n",
       "min       1.000000    23.000000    -3.000000     8.000000   9307.000000   \n",
       "25%    1250.750000    35.000000    10.000000    39.000000  91911.000000   \n",
       "50%    2500.500000    45.000000    20.000000    64.000000  93437.000000   \n",
       "75%    3750.250000    55.000000    30.000000    98.000000  94608.000000   \n",
       "max    5000.000000    67.000000    43.000000   224.000000  96651.000000   \n",
       "\n",
       "       Family Size  CCAvgSpending     Mortgage  Investment Account  \\\n",
       "count  4991.000000    5000.000000  5000.000000         5000.000000   \n",
       "mean      2.396714       1.937938    56.498800            0.104400   \n",
       "std       1.148189       1.747659   101.713802            0.305809   \n",
       "min       1.000000       0.000000     0.000000            0.000000   \n",
       "25%       1.000000       0.700000     0.000000            0.000000   \n",
       "50%       2.000000       1.500000     0.000000            0.000000   \n",
       "75%       3.000000       2.500000   101.000000            0.000000   \n",
       "max       4.000000      10.000000   635.000000            1.000000   \n",
       "\n",
       "       Deposit Account  \n",
       "count       5000.00000  \n",
       "mean           0.06040  \n",
       "std            0.23825  \n",
       "min            0.00000  \n",
       "25%            0.00000  \n",
       "50%            0.00000  \n",
       "75%            0.00000  \n",
       "max            1.00000  "
      ]
     },
     "execution_count": 6,
     "metadata": {},
     "output_type": "execute_result"
    }
   ],
   "source": [
    "#describe() gives a quick rundown of the descriptive stats for eah column\n",
    "\n",
    "df.describe()"
   ]
  },
  {
   "cell_type": "markdown",
   "id": "b4a33953",
   "metadata": {},
   "source": [
    "From above, a few interesting points are observed :\n",
    "\n",
    "1. Data collected <b>Age</b> between 23 to 67\n",
    "2. <b>Experience</b> includes negative number"
   ]
  },
  {
   "cell_type": "code",
   "execution_count": 7,
   "id": "b316a971",
   "metadata": {},
   "outputs": [
    {
     "data": {
      "text/plain": [
       "Experience\n",
       " 0    66\n",
       "-1    33\n",
       "-2    15\n",
       "-3     4\n",
       "Name: count, dtype: int64"
      ]
     },
     "execution_count": 7,
     "metadata": {},
     "output_type": "execute_result"
    }
   ],
   "source": [
    "#check how many negatives values we have for experience and the value_counts\n",
    "\n",
    "df[df['Experience']<=0]['Experience'].value_counts()"
   ]
  },
  {
   "cell_type": "code",
   "execution_count": 8,
   "id": "bd29699f",
   "metadata": {},
   "outputs": [
    {
     "name": "stdout",
     "output_type": "stream",
     "text": [
      "<class 'pandas.core.frame.DataFrame'>\n",
      "RangeIndex: 5000 entries, 0 to 4999\n",
      "Data columns (total 13 columns):\n",
      " #   Column              Non-Null Count  Dtype  \n",
      "---  ------              --------------  -----  \n",
      " 0   ID                  5000 non-null   int64  \n",
      " 1   Age                 5000 non-null   int64  \n",
      " 2   Experience          5000 non-null   int64  \n",
      " 3   Income              4980 non-null   float64\n",
      " 4   Postal Code         5000 non-null   int64  \n",
      " 5   Family Size         4991 non-null   float64\n",
      " 6   CCAvgSpending       5000 non-null   float64\n",
      " 7   Education           5000 non-null   object \n",
      " 8   Mortgage            5000 non-null   int64  \n",
      " 9   Investment Account  5000 non-null   int64  \n",
      " 10  Deposit Account     5000 non-null   int64  \n",
      " 11  InternetBanking     5000 non-null   object \n",
      " 12  Personal Loan       5000 non-null   object \n",
      "dtypes: float64(3), int64(7), object(3)\n",
      "memory usage: 507.9+ KB\n"
     ]
    }
   ],
   "source": [
    "df.info()"
   ]
  },
  {
   "cell_type": "markdown",
   "id": "8418bd7a",
   "metadata": {},
   "source": [
    "info() helps to give a quick view for any null-values in the data, which can be problematic for modelling/analysis subsequently, we will need to decide a strategy to deal with these blank.\n",
    "\n",
    "<b>Some strategies we can use</b>\n",
    "1. dropping the null values\n",
    "2. imputing a values\n",
    "\n",
    "Since the missing nulls only made up very little numbers of data, I would typically drop these row but for demostration purposes, I will go for the imputing approach."
   ]
  },
  {
   "cell_type": "markdown",
   "id": "5aad6f28",
   "metadata": {},
   "source": [
    "# Data Cleaning"
   ]
  },
  {
   "cell_type": "markdown",
   "id": "60b92a51",
   "metadata": {},
   "source": [
    "## impute values for family size and Income here\n",
    "\n",
    "When imputing missing values, a common mistakes is to impute values based on the overall data. This is not ideal as different classes may have very different descriptive stats. In this example, after check the boxplot of various classes, I've decided to\n",
    "\n",
    "1. Impute <b>Family Size</b> based on average of different <b>age_bucket</b>\n",
    "2. Impute <b>Income</b> based on average of different <b>Education level<b>"
   ]
  },
  {
   "cell_type": "code",
   "execution_count": 9,
   "id": "bc3db610",
   "metadata": {},
   "outputs": [
    {
     "data": {
      "text/plain": [
       "<Axes: xlabel='Age_bracket', ylabel='Family Size'>"
      ]
     },
     "execution_count": 9,
     "metadata": {},
     "output_type": "execute_result"
    },
    {
     "data": {
      "image/png": "[encoded data removed]",
      "text/plain": [
       "<Figure size 640x480 with 1 Axes>"
      ]
     },
     "metadata": {},
     "output_type": "display_data"
    }
   ],
   "source": [
    "# Define the age brackets and corresponding labels\n",
    "bins = [20, 30, 40, 50, float('inf')]  # The last bin represents >50\n",
    "labels = ['20-30', '30-40', '40-50', '>50']\n",
    "\n",
    "# Create the 'Age_bracket' column\n",
    "df['Age_bracket'] = pd.cut(df['Age'], bins=bins, labels=labels, right=False)\n",
    "sns.boxplot(df, x='Age_bracket', y='Family Size')"
   ]
  },
  {
   "cell_type": "code",
   "execution_count": 10,
   "id": "d3eb2d3f",
   "metadata": {},
   "outputs": [],
   "source": [
    "def impute_fs(row):\n",
    "    family_size = row['Family Size']\n",
    "    age_bracket = row['Age_bracket']\n",
    "    \n",
    "    if pd.isnull(family_size):\n",
    "        if age_bracket == '20-30':\n",
    "            return round(df[df['Age_bracket'] == '20-30']['Family Size'].mean())\n",
    "        else:\n",
    "            return round(df[df['Age_bracket'] != '20-30']['Family Size'].mean())\n",
    "    else:\n",
    "        return family_size\n",
    "\n",
    "df['Family Size'] = df.apply(impute_fs, axis=1)"
   ]
  },
  {
   "cell_type": "code",
   "execution_count": 11,
   "id": "04cd9abf",
   "metadata": {},
   "outputs": [
    {
     "data": {
      "text/plain": [
       "<Axes: xlabel='Education', ylabel='Income'>"
      ]
     },
     "execution_count": 11,
     "metadata": {},
     "output_type": "execute_result"
    },
    {
     "data": {
      "image/png": "[encoded data removed]",
      "text/plain": [
       "<Figure size 640x480 with 1 Axes>"
      ]
     },
     "metadata": {},
     "output_type": "display_data"
    }
   ],
   "source": [
    "sns.boxplot(df, x='Education', y='Income')"
   ]
  },
  {
   "cell_type": "code",
   "execution_count": 12,
   "id": "ff1352b1",
   "metadata": {},
   "outputs": [],
   "source": [
    "def impute_income(row):\n",
    "    Income = row['Income']\n",
    "    Education = row['Education']\n",
    "    \n",
    "    if pd.isnull(Income):\n",
    "        if Education == 'Undergrad':\n",
    "            return round(df[df['Education'] == 'Undergrad']['Income'].mean())\n",
    "        else:\n",
    "            return round(df[df['Education'] != 'Undergrad']['Income'].mean())\n",
    "    else:\n",
    "        return Income\n",
    "\n",
    "df['Income'] = df.apply(impute_income, axis=1)"
   ]
  },
  {
   "cell_type": "markdown",
   "id": "664a0bc8",
   "metadata": {},
   "source": [
    "## negative experience values\n",
    "\n",
    "Not sure why it's negative so I'm wary of jumping the gun to conclude that this is wrong. Normally, I will investigate reasons for it to be negative but since that's not possible now, I will proceed to drop these row since it made up only ~1% of total data"
   ]
  },
  {
   "cell_type": "code",
   "execution_count": 13,
   "id": "7dbead5c",
   "metadata": {},
   "outputs": [],
   "source": [
    "df = df[df['Experience'] >= 0]"
   ]
  },
  {
   "cell_type": "code",
   "execution_count": 14,
   "id": "2e73f60d",
   "metadata": {},
   "outputs": [
    {
     "name": "stdout",
     "output_type": "stream",
     "text": [
      "<class 'pandas.core.frame.DataFrame'>\n",
      "Index: 4948 entries, 0 to 4999\n",
      "Data columns (total 14 columns):\n",
      " #   Column              Non-Null Count  Dtype   \n",
      "---  ------              --------------  -----   \n",
      " 0   ID                  4948 non-null   int64   \n",
      " 1   Age                 4948 non-null   int64   \n",
      " 2   Experience          4948 non-null   int64   \n",
      " 3   Income              4948 non-null   float64 \n",
      " 4   Postal Code         4948 non-null   int64   \n",
      " 5   Family Size         4948 non-null   float64 \n",
      " 6   CCAvgSpending       4948 non-null   float64 \n",
      " 7   Education           4948 non-null   object  \n",
      " 8   Mortgage            4948 non-null   int64   \n",
      " 9   Investment Account  4948 non-null   int64   \n",
      " 10  Deposit Account     4948 non-null   int64   \n",
      " 11  InternetBanking     4948 non-null   object  \n",
      " 12  Personal Loan       4948 non-null   object  \n",
      " 13  Age_bracket         4948 non-null   category\n",
      "dtypes: category(1), float64(3), int64(7), object(3)\n",
      "memory usage: 546.2+ KB\n"
     ]
    }
   ],
   "source": [
    "#Check if we still have any null-values\n",
    "df.info()"
   ]
  },
  {
   "cell_type": "markdown",
   "id": "56970797",
   "metadata": {},
   "source": [
    "## Check value counts of target variables \n",
    "\n",
    "if values are too little, we may need to use \"SMOTE\" and \"RandomUnderSampler\" to increase/decrease the majority/minority class"
   ]
  },
  {
   "cell_type": "code",
   "execution_count": 15,
   "id": "94c1d44f",
   "metadata": {},
   "outputs": [
    {
     "data": {
      "text/plain": [
       "Personal Loan\n",
       "NO     4468\n",
       "YES     480\n",
       "Name: count, dtype: int64"
      ]
     },
     "execution_count": 15,
     "metadata": {},
     "output_type": "execute_result"
    }
   ],
   "source": [
    "df['Personal Loan'].value_counts()"
   ]
  },
  {
   "cell_type": "markdown",
   "id": "8eccf15d",
   "metadata": {},
   "source": [
    "\"YES\" is ~10% of overall data, this might be a little low but let's go ahead to train and measure model accuracy before deciding later if necessary to use \"SMOTE\" and \"RandomUnderSample\" later on."
   ]
  },
  {
   "cell_type": "markdown",
   "id": "5c6a7fda",
   "metadata": {},
   "source": [
    "## Prep data for training\n",
    "Replace 'NO' with 0 and 'YES' with 1 for binary data"
   ]
  },
  {
   "cell_type": "code",
   "execution_count": 16,
   "id": "ec107cce",
   "metadata": {},
   "outputs": [],
   "source": [
    "df['InternetBanking'] = df['InternetBanking'].replace({'NO': 0, 'YES': 1})\n",
    "df['Personal Loan'] = df['Personal Loan'].replace({'NO': 0, 'YES': 1})"
   ]
  },
  {
   "cell_type": "markdown",
   "id": "05a5230a",
   "metadata": {},
   "source": [
    "For non-binary data, we use getdummies to convert them into indicator variables"
   ]
  },
  {
   "cell_type": "code",
   "execution_count": 17,
   "id": "62d2e0d3",
   "metadata": {},
   "outputs": [],
   "source": [
    "cat_feat = df.select_dtypes(include='object').columns\n",
    "df2 = pd.get_dummies(df, columns=cat_feat, drop_first=1).drop('Age_bracket', axis=1)"
   ]
  },
  {
   "cell_type": "markdown",
   "id": "b527745c",
   "metadata": {},
   "source": [
    "# Splitting data in 3 sets \n",
    "train, test, validation"
   ]
  },
  {
   "cell_type": "code",
   "execution_count": 18,
   "id": "c83b4afb",
   "metadata": {},
   "outputs": [],
   "source": [
    "X = df2.drop(['ID', 'Personal Loan'], axis=1)\n",
    "y = df2['Personal Loan']\n",
    "\n",
    "X_train, X_test, y_train, y_test = train_test_split(X, y, test_size=0.2, random_state=101)\n",
    "X_train, X_val, y_train, y_val = train_test_split(X_train, y_train, test_size=0.2, random_state=101)"
   ]
  },
  {
   "cell_type": "markdown",
   "id": "8e2d7200",
   "metadata": {},
   "source": [
    "# Baseline Test\n",
    "Before we go ahead with training, it's often helpful to conduct a baseline test. This test helps us understand the baseline for our model performance. In this scenario, I have created a model that simply predict 0 for every sample. And this already given us 91% in accuracy. What this tells us is that for our model to be truly effective, we will need accuracy at least higher than 91%"
   ]
  },
  {
   "cell_type": "code",
   "execution_count": 19,
   "id": "9d537e76",
   "metadata": {},
   "outputs": [
    {
     "name": "stdout",
     "output_type": "stream",
     "text": [
      "              precision    recall  f1-score   support\n",
      "\n",
      "           0       0.91      1.00      0.95       904\n",
      "           1       0.00      0.00      0.00        86\n",
      "\n",
      "    accuracy                           0.91       990\n",
      "   macro avg       0.46      0.50      0.48       990\n",
      "weighted avg       0.83      0.91      0.87       990\n",
      "\n"
     ]
    }
   ],
   "source": [
    "print(classification_report(y_test, np.zeros_like(y_test), zero_division=0))"
   ]
  },
  {
   "cell_type": "markdown",
   "id": "875cc138",
   "metadata": {},
   "source": [
    "# Linear Regression"
   ]
  },
  {
   "cell_type": "code",
   "execution_count": 20,
   "id": "4211dedd",
   "metadata": {},
   "outputs": [
    {
     "name": "stdout",
     "output_type": "stream",
     "text": [
      "              precision    recall  f1-score   support\n",
      "\n",
      "           0       0.94      0.95      0.95       904\n",
      "           1       0.42      0.37      0.39        86\n",
      "\n",
      "    accuracy                           0.90       990\n",
      "   macro avg       0.68      0.66      0.67       990\n",
      "weighted avg       0.90      0.90      0.90       990\n",
      "\n"
     ]
    }
   ],
   "source": [
    "lm = LogisticRegression(max_iter=1000, random_state=42)\n",
    "\n",
    "lm.fit(X_train, y_train)\n",
    "lm_pred = lm.predict(X_test)\n",
    "\n",
    "print(classification_report(y_test, lm_pred))"
   ]
  },
  {
   "cell_type": "markdown",
   "id": "5f73aa5e",
   "metadata": {},
   "source": [
    "A Simple Linear Regression yielded accuracy of 90%, which might be accepted as good performance but if we compared it with baseline test, we would quickly grasp that it actually perform worst than a model that simply predict 0 for every sample.\n",
    "\n",
    "On this point alone, we can quickly decide that this model isn't ideal for our use case. Poor performace in term of   precision and recall for class 1 also supported Linear Regression might not be the most ideal method."
   ]
  },
  {
   "cell_type": "markdown",
   "id": "ae9b31ff",
   "metadata": {},
   "source": [
    "# Decision Tree"
   ]
  },
  {
   "cell_type": "code",
   "execution_count": 21,
   "id": "36f17490",
   "metadata": {},
   "outputs": [
    {
     "name": "stdout",
     "output_type": "stream",
     "text": [
      "              precision    recall  f1-score   support\n",
      "\n",
      "           0       0.99      0.99      0.99       904\n",
      "           1       0.93      0.91      0.92        86\n",
      "\n",
      "    accuracy                           0.99       990\n",
      "   macro avg       0.96      0.95      0.95       990\n",
      "weighted avg       0.99      0.99      0.99       990\n",
      "\n"
     ]
    }
   ],
   "source": [
    "dtree = DecisionTreeClassifier(random_state=42)\n",
    "\n",
    "dtree.fit(X_train, y_train)\n",
    "dtree_pred = dtree.predict(X_test)\n",
    "\n",
    "print(classification_report(y_test, dtree_pred))"
   ]
  },
  {
   "cell_type": "markdown",
   "id": "4f66ea7b",
   "metadata": {},
   "source": [
    "This is some very good result but can we do better? Let's try by <b>iterating the model to find ideal max_depth values</b>"
   ]
  },
  {
   "cell_type": "code",
   "execution_count": 22,
   "id": "4771916e",
   "metadata": {},
   "outputs": [
    {
     "data": {
      "text/html": [
       "<div>\n",
       "<style scoped>\n",
       "    .dataframe tbody tr th:only-of-type {\n",
       "        vertical-align: middle;\n",
       "    }\n",
       "\n",
       "    .dataframe tbody tr th {\n",
       "        vertical-align: top;\n",
       "    }\n",
       "\n",
       "    .dataframe thead th {\n",
       "        text-align: right;\n",
       "    }\n",
       "</style>\n",
       "<table border=\"1\" class=\"dataframe\">\n",
       "  <thead>\n",
       "    <tr style=\"text-align: right;\">\n",
       "      <th></th>\n",
       "      <th>max_depth</th>\n",
       "      <th>test_accuracy</th>\n",
       "    </tr>\n",
       "  </thead>\n",
       "  <tbody>\n",
       "    <tr>\n",
       "      <th>7</th>\n",
       "      <td>8</td>\n",
       "      <td>0.985859</td>\n",
       "    </tr>\n",
       "  </tbody>\n",
       "</table>\n",
       "</div>"
      ],
      "text/plain": [
       "   max_depth  test_accuracy\n",
       "7          8       0.985859"
      ]
     },
     "execution_count": 22,
     "metadata": {},
     "output_type": "execute_result"
    },
    {
     "data": {
      "image/png": "[encoded data removed]",
      "text/plain": [
       "<Figure size 1000x400 with 1 Axes>"
      ]
     },
     "metadata": {},
     "output_type": "display_data"
    }
   ],
   "source": [
    "test_accuracy = []\n",
    "\n",
    "for max_d in range(1,25):\n",
    "    model = DecisionTreeClassifier(max_depth=max_d, random_state=42)\n",
    "    model.fit(X_train, y_train)\n",
    "    test_accuracy.append(model.score(X_test, y_test))\n",
    "    \n",
    "plt.figure(figsize=(10, 4))\n",
    "plt.plot(range(1, 25), test_accuracy, ls='--', marker='o', color='green', markerfacecolor='yellow', markersize=10, label='Test')\n",
    "\n",
    "plt.title('Accuracy vs. Max depth')\n",
    "plt.xlabel('Max depth')\n",
    "plt.ylabel('Accuracy')\n",
    "plt.legend()\n",
    "\n",
    "\n",
    "index_range = range(1, 25)\n",
    "\n",
    "data = {'Index': index_range, 'test_accuracy': test_accuracy}\n",
    "df_test_accuracy = pd.DataFrame(data).set_index('Index')\n",
    "df_test_accuracy.index.name = 'max_depth'\n",
    "df_test_accuracy = df_test_accuracy.reset_index(drop=False)\n",
    "\n",
    "df_test_accuracy = df_test_accuracy[(df_test_accuracy['test_accuracy']==df_test_accuracy['test_accuracy'].max())]\n",
    "df_test_accuracy = df_test_accuracy[(df_test_accuracy['max_depth']==df_test_accuracy['max_depth'].min())]\n",
    "\n",
    "df_test_accuracy"
   ]
  },
  {
   "cell_type": "markdown",
   "id": "47b3af72",
   "metadata": {},
   "source": [
    "So it looks like we get max accuracy when max_depth=8"
   ]
  },
  {
   "cell_type": "code",
   "execution_count": 23,
   "id": "0f103c74",
   "metadata": {},
   "outputs": [
    {
     "name": "stdout",
     "output_type": "stream",
     "text": [
      "              precision    recall  f1-score   support\n",
      "\n",
      "           0       0.99      0.99      0.99       904\n",
      "           1       0.91      0.93      0.92        86\n",
      "\n",
      "    accuracy                           0.99       990\n",
      "   macro avg       0.95      0.96      0.96       990\n",
      "weighted avg       0.99      0.99      0.99       990\n",
      "\n"
     ]
    }
   ],
   "source": [
    "dtree = DecisionTreeClassifier(max_depth=8, random_state=42)\n",
    "\n",
    "dtree.fit(X_train, y_train)\n",
    "dtree_pred = dtree.predict(X_test)\n",
    "\n",
    "print(classification_report(y_test, dtree_pred))"
   ]
  },
  {
   "cell_type": "markdown",
   "id": "be729fcb",
   "metadata": {},
   "source": [
    "Recall for class 1 are better when we use max_depth=8 while compromising on precision. Consider our objective, I'm inclined toward a higher recall for class 1 so as to ensure we captured as many convert users as possible."
   ]
  },
  {
   "cell_type": "markdown",
   "id": "e2c77907",
   "metadata": {},
   "source": [
    "# Check if decision tree model has been overfitted \n",
    "\n",
    "Decision tree is quite prone to overfitted, making it losing predictive power when giving brand new data. As a litmus test, we can use 2 methods"
   ]
  },
  {
   "cell_type": "markdown",
   "id": "641cc4ec",
   "metadata": {},
   "source": [
    "## 1. Check performance using the validation set\n",
    "\n",
    "Remember we splitted our data in 3 sets initially? This is when the third set (validation sets) comes into the pictures"
   ]
  },
  {
   "cell_type": "code",
   "execution_count": 24,
   "id": "19935093",
   "metadata": {},
   "outputs": [
    {
     "name": "stdout",
     "output_type": "stream",
     "text": [
      "              precision    recall  f1-score   support\n",
      "\n",
      "           0       0.99      0.99      0.99       716\n",
      "           1       0.89      0.88      0.89        76\n",
      "\n",
      "    accuracy                           0.98       792\n",
      "   macro avg       0.94      0.94      0.94       792\n",
      "weighted avg       0.98      0.98      0.98       792\n",
      "\n"
     ]
    }
   ],
   "source": [
    "dtree_pred = dtree.predict(X_val)\n",
    "print(classification_report(y_val, dtree_pred))"
   ]
  },
  {
   "cell_type": "markdown",
   "id": "36e8a956",
   "metadata": {},
   "source": [
    "Though recall for class 1 are not as good as as test sets, we can see that most other metrics are still doing quite well. Thus the model doesn't appear to have been overfitted"
   ]
  },
  {
   "cell_type": "markdown",
   "id": "e73a38d0",
   "metadata": {},
   "source": [
    "## 2. Check via k-fold cross-validation"
   ]
  },
  {
   "cell_type": "code",
   "execution_count": 25,
   "id": "5de0b141",
   "metadata": {},
   "outputs": [
    {
     "data": {
      "text/plain": [
       "array([0.98107256, 0.98422713, 0.97791798, 0.97791798, 0.98422713,\n",
       "       0.97160883, 0.97151899, 0.9778481 , 0.98101266, 0.9778481 ])"
      ]
     },
     "execution_count": 25,
     "metadata": {},
     "output_type": "execute_result"
    }
   ],
   "source": [
    "dtree_scores = cross_val_score(dtree, X_train, y_train, scoring='accuracy', cv=10)\n",
    "dtree_scores"
   ]
  },
  {
   "cell_type": "code",
   "execution_count": 26,
   "id": "9294be65",
   "metadata": {},
   "outputs": [
    {
     "data": {
      "text/plain": [
       "0.9785199456934073"
      ]
     },
     "execution_count": 26,
     "metadata": {},
     "output_type": "execute_result"
    }
   ],
   "source": [
    "dtree_scores.mean()"
   ]
  },
  {
   "cell_type": "markdown",
   "id": "45fafdf1",
   "metadata": {},
   "source": [
    "all 10 folds appear somewhat similar, this also support the fact that the model hasn't been overfitted."
   ]
  },
  {
   "cell_type": "markdown",
   "id": "d1de022d",
   "metadata": {},
   "source": [
    "# Features importances\n",
    "\n",
    "Now that we have establish <b>\"Decision Tree\"</b> to be the model, let's find out what're the main features the model relied on for prediction"
   ]
  },
  {
   "cell_type": "code",
   "execution_count": 27,
   "id": "6e193e05",
   "metadata": {},
   "outputs": [
    {
     "data": {
      "text/html": [
       "<div>\n",
       "<style scoped>\n",
       "    .dataframe tbody tr th:only-of-type {\n",
       "        vertical-align: middle;\n",
       "    }\n",
       "\n",
       "    .dataframe tbody tr th {\n",
       "        vertical-align: top;\n",
       "    }\n",
       "\n",
       "    .dataframe thead th {\n",
       "        text-align: right;\n",
       "    }\n",
       "</style>\n",
       "<table border=\"1\" class=\"dataframe\">\n",
       "  <thead>\n",
       "    <tr style=\"text-align: right;\">\n",
       "      <th></th>\n",
       "      <th>feature_importance</th>\n",
       "    </tr>\n",
       "  </thead>\n",
       "  <tbody>\n",
       "    <tr>\n",
       "      <th>Education_Undergrad</th>\n",
       "      <td>0.359472</td>\n",
       "    </tr>\n",
       "    <tr>\n",
       "      <th>Income</th>\n",
       "      <td>0.346262</td>\n",
       "    </tr>\n",
       "    <tr>\n",
       "      <th>Family Size</th>\n",
       "      <td>0.138641</td>\n",
       "    </tr>\n",
       "    <tr>\n",
       "      <th>CCAvgSpending</th>\n",
       "      <td>0.068566</td>\n",
       "    </tr>\n",
       "    <tr>\n",
       "      <th>Deposit Account</th>\n",
       "      <td>0.027395</td>\n",
       "    </tr>\n",
       "    <tr>\n",
       "      <th>Postal Code</th>\n",
       "      <td>0.027176</td>\n",
       "    </tr>\n",
       "    <tr>\n",
       "      <th>Age</th>\n",
       "      <td>0.017841</td>\n",
       "    </tr>\n",
       "    <tr>\n",
       "      <th>Experience</th>\n",
       "      <td>0.008476</td>\n",
       "    </tr>\n",
       "    <tr>\n",
       "      <th>Education_Graduate</th>\n",
       "      <td>0.002827</td>\n",
       "    </tr>\n",
       "    <tr>\n",
       "      <th>Mortgage</th>\n",
       "      <td>0.002415</td>\n",
       "    </tr>\n",
       "    <tr>\n",
       "      <th>Investment Account</th>\n",
       "      <td>0.000929</td>\n",
       "    </tr>\n",
       "    <tr>\n",
       "      <th>InternetBanking</th>\n",
       "      <td>0.000000</td>\n",
       "    </tr>\n",
       "  </tbody>\n",
       "</table>\n",
       "</div>"
      ],
      "text/plain": [
       "                     feature_importance\n",
       "Education_Undergrad            0.359472\n",
       "Income                         0.346262\n",
       "Family Size                    0.138641\n",
       "CCAvgSpending                  0.068566\n",
       "Deposit Account                0.027395\n",
       "Postal Code                    0.027176\n",
       "Age                            0.017841\n",
       "Experience                     0.008476\n",
       "Education_Graduate             0.002827\n",
       "Mortgage                       0.002415\n",
       "Investment Account             0.000929\n",
       "InternetBanking                0.000000"
      ]
     },
     "execution_count": 27,
     "metadata": {},
     "output_type": "execute_result"
    }
   ],
   "source": [
    "dtree_fi = pd.DataFrame(dtree.feature_importances_, X_test.columns, columns=['feature_importance'])\n",
    "dtree_fi.sort_values(by='feature_importance', ascending=False)"
   ]
  },
  {
   "cell_type": "markdown",
   "id": "fdaac391",
   "metadata": {},
   "source": [
    "<b>Education_Undergrad</b> and <b>Income</b> appear to be the 2 main features with highest feature importance"
   ]
  },
  {
   "cell_type": "code",
   "execution_count": 28,
   "id": "978ca3ae",
   "metadata": {},
   "outputs": [
    {
     "data": {
      "image/png": "[encoded data removed]",
      "text/plain": [
       "<Figure size 2000x500 with 1 Axes>"
      ]
     },
     "metadata": {},
     "output_type": "display_data"
    }
   ],
   "source": [
    "plt.figure(figsize=(20, 5)) \n",
    "plot_tree(dtree, feature_names=X.columns, filled=True, rounded=True, fontsize=10,  max_depth=3)\n",
    "plt.show()"
   ]
  },
  {
   "cell_type": "markdown",
   "id": "9bc6da5c",
   "metadata": {},
   "source": [
    "<b>Income : </b> >110k seems to be the most ideal threshold to tells whether an potential would take up personal loan\n",
    "<br>\n",
    "<b>Education : </b> Not Undergrad are more likely to take up personal loan"
   ]
  },
  {
   "cell_type": "code",
   "execution_count": 29,
   "id": "a9e385f5",
   "metadata": {},
   "outputs": [
    {
     "data": {
      "text/plain": [
       "<seaborn.axisgrid.FacetGrid at 0x16813f9a0>"
      ]
     },
     "execution_count": 29,
     "metadata": {},
     "output_type": "execute_result"
    },
    {
     "data": {
      "image/png": "[encoded data removed]",
      "text/plain": [
       "<Figure size 607.986x500 with 1 Axes>"
      ]
     },
     "metadata": {},
     "output_type": "display_data"
    }
   ],
   "source": [
    "sns.displot(df, x='Income', hue='Personal Loan', bins=20)"
   ]
  },
  {
   "cell_type": "markdown",
   "id": "39be2c48",
   "metadata": {},
   "source": [
    "Though not a lot, we can see quite a number of borrowers with income between 100~110 also taken up personal loan"
   ]
  },
  {
   "cell_type": "code",
   "execution_count": 30,
   "id": "4efa9570",
   "metadata": {},
   "outputs": [
    {
     "name": "stdout",
     "output_type": "stream",
     "text": [
      "410 out of 480 personal loan borrowers has income 110k or more. (0.85)\n"
     ]
    }
   ],
   "source": [
    "loan_total_cnt = df[(df['Personal Loan']==1)].count()[0]\n",
    "loan_110k_cnt = df[(df['Personal Loan']==1)&(df['Income']>110)].count()[0]\n",
    "pct = (loan_110k_cnt/loan_total_cnt).round(2)\n",
    "\n",
    "print(f'{loan_110k_cnt} out of {loan_total_cnt} personal loan borrowers has income 110k or more. ({pct})')"
   ]
  },
  {
   "cell_type": "code",
   "execution_count": 31,
   "id": "f12758ec",
   "metadata": {},
   "outputs": [
    {
     "name": "stdout",
     "output_type": "stream",
     "text": [
      "437 out of 480 personal loan borrowers has income 100k or more. (0.91)\n"
     ]
    }
   ],
   "source": [
    "loan_total_cnt = df[(df['Personal Loan']==1)].count()[0]\n",
    "loan_100k_cnt = df[(df['Personal Loan']==1)&(df['Income']>100)].count()[0]\n",
    "pct = (loan_100k_cnt/loan_total_cnt).round(2)\n",
    "\n",
    "print(f'{loan_100k_cnt} out of {loan_total_cnt} personal loan borrowers has income 100k or more. ({pct})')"
   ]
  },
  {
   "cell_type": "code",
   "execution_count": 32,
   "id": "c1edfde5",
   "metadata": {},
   "outputs": [
    {
     "name": "stdout",
     "output_type": "stream",
     "text": [
      "\u001b[1mLoan Conversion rates by income\u001b[0m\n",
      "More than 100k : 0.36\n",
      "Less than or equal 100k : 0.01\n"
     ]
    }
   ],
   "source": [
    "more_than_100k = df[df['Income']>100]['Personal Loan'].mean().round(2)\n",
    "less_or_equal_100k = df[df['Income']<=100]['Personal Loan'].mean().round(2)\n",
    "\n",
    "print('\\033[1m'+'Loan Conversion rates by income'+ '\\033[0m' )\n",
    "print(f'More than 100k : {more_than_100k}')\n",
    "print(f'Less than or equal 100k : {less_or_equal_100k}')"
   ]
  },
  {
   "cell_type": "code",
   "execution_count": 33,
   "id": "0c397c3b",
   "metadata": {},
   "outputs": [
    {
     "name": "stdout",
     "output_type": "stream",
     "text": [
      "387 out of 480 personal loan borrowers possessed a graduate or higher degree. (0.81)\n"
     ]
    }
   ],
   "source": [
    "loan_total_cnt = df[(df['Personal Loan']==1)].count()[0]\n",
    "loan_postgrad_cnt = df[(df['Personal Loan']==1)&(df['Education']!='Undergrad')].count()[0]\n",
    "pct = (loan_postgrad_cnt/loan_total_cnt).round(2)\n",
    "\n",
    "print(f'{loan_postgrad_cnt} out of {loan_total_cnt} personal loan borrowers possessed a graduate or higher degree. ({pct})')\n"
   ]
  },
  {
   "cell_type": "code",
   "execution_count": 34,
   "id": "a6d666c7",
   "metadata": {},
   "outputs": [
    {
     "name": "stdout",
     "output_type": "stream",
     "text": [
      "\u001b[1mLoan Conversion rates by Education\u001b[0m\n",
      "postgrad : 0.13\n",
      "undergrad : 0.04\n"
     ]
    }
   ],
   "source": [
    "postgrad = df[df['Education']!='Undergrad']['Personal Loan'].mean().round(2)\n",
    "undergrad = df[df['Education']=='Undergrad']['Personal Loan'].mean().round(2)\n",
    "\n",
    "print('\\033[1m'+'Loan Conversion rates by Education'+ '\\033[0m' )\n",
    "print(f'postgrad : {postgrad}')\n",
    "print(f'undergrad : {undergrad}')"
   ]
  },
  {
   "cell_type": "code",
   "execution_count": 35,
   "id": "59eac818",
   "metadata": {},
   "outputs": [
    {
     "data": {
      "text/plain": [
       "0.7920353982300885"
      ]
     },
     "execution_count": 35,
     "metadata": {},
     "output_type": "execute_result"
    }
   ],
   "source": [
    "df[(df['Income']>100)&(df['Education']!='Undergrad')]['Personal Loan'].mean()"
   ]
  },
  {
   "cell_type": "markdown",
   "id": "5feae265",
   "metadata": {},
   "source": [
    "# Can we do anything for those whose income are below 110k?"
   ]
  },
  {
   "cell_type": "code",
   "execution_count": 36,
   "id": "8b8fd1e3",
   "metadata": {},
   "outputs": [],
   "source": [
    "#filter df to include only those with income <110k\n",
    "df3 = df2[df2['Income']<110]"
   ]
  },
  {
   "cell_type": "code",
   "execution_count": 37,
   "id": "f81ce3c3",
   "metadata": {},
   "outputs": [],
   "source": [
    "X = df3.drop(['ID', 'Personal Loan'], axis=1)\n",
    "y = df3['Personal Loan']\n",
    "\n",
    "X_train, X_test, y_train, y_test = train_test_split(X, y, test_size=0.2, random_state=101)\n",
    "X_train, X_val, y_train, y_val = train_test_split(X_train, y_train, test_size=0.2, random_state=101)"
   ]
  },
  {
   "cell_type": "code",
   "execution_count": 38,
   "id": "4b58ac3c",
   "metadata": {},
   "outputs": [
    {
     "data": {
      "text/html": [
       "<div>\n",
       "<style scoped>\n",
       "    .dataframe tbody tr th:only-of-type {\n",
       "        vertical-align: middle;\n",
       "    }\n",
       "\n",
       "    .dataframe tbody tr th {\n",
       "        vertical-align: top;\n",
       "    }\n",
       "\n",
       "    .dataframe thead th {\n",
       "        text-align: right;\n",
       "    }\n",
       "</style>\n",
       "<table border=\"1\" class=\"dataframe\">\n",
       "  <thead>\n",
       "    <tr style=\"text-align: right;\">\n",
       "      <th></th>\n",
       "      <th>max_depth</th>\n",
       "      <th>recall_scores</th>\n",
       "    </tr>\n",
       "  </thead>\n",
       "  <tbody>\n",
       "    <tr>\n",
       "      <th>7</th>\n",
       "      <td>8</td>\n",
       "      <td>0.571429</td>\n",
       "    </tr>\n",
       "  </tbody>\n",
       "</table>\n",
       "</div>"
      ],
      "text/plain": [
       "   max_depth  recall_scores\n",
       "7          8       0.571429"
      ]
     },
     "execution_count": 38,
     "metadata": {},
     "output_type": "execute_result"
    },
    {
     "data": {
      "image/png": "[encoded data removed]",
      "text/plain": [
       "<Figure size 1000x400 with 1 Axes>"
      ]
     },
     "metadata": {},
     "output_type": "display_data"
    }
   ],
   "source": [
    "#iterate model using recall scores for class 1 as we would be more interested in capturing as many as possible \n",
    "#for the loan converted accounts\n",
    "\n",
    "recall_scores = []\n",
    "\n",
    "for max_d in range(1, 25):\n",
    "    dtree = DecisionTreeClassifier(max_depth=max_d, random_state=42)\n",
    "    dtree.fit(X_train, y_train)\n",
    "    dtree_pred = dtree.predict(X_test)\n",
    "    recall_scores.append(classification_report(y_test, dtree_pred, output_dict=True, zero_division=0)['1']['recall'])\n",
    "    \n",
    "plt.figure(figsize=(10, 4))\n",
    "plt.plot(range(1, 25), recall_scores, ls='--', marker='o', color='blue', markerfacecolor='red', markersize=10)\n",
    "\n",
    "\n",
    "index_range = range(1, 25)\n",
    "\n",
    "data = {'Index': index_range, 'recall_scores': recall_scores}\n",
    "df_test_recall = pd.DataFrame(data).set_index('Index')\n",
    "df_test_recall.index.name = 'max_depth'\n",
    "df_test_recall = df_test_recall.reset_index(drop=False)\n",
    "\n",
    "df_test_recall = df_test_recall[(df_test_recall['recall_scores']==df_test_recall['recall_scores'].max())]\n",
    "df_test_recall = df_test_recall[(df_test_recall['max_depth']==df_test_recall['max_depth'].min())]\n",
    "\n",
    "df_test_recall"
   ]
  },
  {
   "cell_type": "code",
   "execution_count": 39,
   "id": "23f00a5a",
   "metadata": {},
   "outputs": [
    {
     "name": "stdout",
     "output_type": "stream",
     "text": [
      "              precision    recall  f1-score   support\n",
      "\n",
      "           0       0.99      0.99      0.99       762\n",
      "           1       0.67      0.57      0.62        14\n",
      "\n",
      "    accuracy                           0.99       776\n",
      "   macro avg       0.83      0.78      0.80       776\n",
      "weighted avg       0.99      0.99      0.99       776\n",
      "\n"
     ]
    }
   ],
   "source": [
    "dtree = DecisionTreeClassifier(max_depth=8, random_state=42)\n",
    "\n",
    "dtree.fit(X_train, y_train)\n",
    "dtree_pred = dtree.predict(X_test)\n",
    "\n",
    "print(classification_report(y_test, dtree_pred))"
   ]
  },
  {
   "cell_type": "code",
   "execution_count": 40,
   "id": "76c68495",
   "metadata": {},
   "outputs": [
    {
     "data": {
      "text/html": [
       "<div>\n",
       "<style scoped>\n",
       "    .dataframe tbody tr th:only-of-type {\n",
       "        vertical-align: middle;\n",
       "    }\n",
       "\n",
       "    .dataframe tbody tr th {\n",
       "        vertical-align: top;\n",
       "    }\n",
       "\n",
       "    .dataframe thead th {\n",
       "        text-align: right;\n",
       "    }\n",
       "</style>\n",
       "<table border=\"1\" class=\"dataframe\">\n",
       "  <thead>\n",
       "    <tr style=\"text-align: right;\">\n",
       "      <th></th>\n",
       "      <th>feature_importance</th>\n",
       "    </tr>\n",
       "  </thead>\n",
       "  <tbody>\n",
       "    <tr>\n",
       "      <th>CCAvgSpending</th>\n",
       "      <td>0.282396</td>\n",
       "    </tr>\n",
       "    <tr>\n",
       "      <th>Income</th>\n",
       "      <td>0.150292</td>\n",
       "    </tr>\n",
       "    <tr>\n",
       "      <th>Age</th>\n",
       "      <td>0.120062</td>\n",
       "    </tr>\n",
       "    <tr>\n",
       "      <th>Deposit Account</th>\n",
       "      <td>0.115120</td>\n",
       "    </tr>\n",
       "    <tr>\n",
       "      <th>Family Size</th>\n",
       "      <td>0.112060</td>\n",
       "    </tr>\n",
       "    <tr>\n",
       "      <th>Education_Graduate</th>\n",
       "      <td>0.055519</td>\n",
       "    </tr>\n",
       "    <tr>\n",
       "      <th>Mortgage</th>\n",
       "      <td>0.036128</td>\n",
       "    </tr>\n",
       "    <tr>\n",
       "      <th>Education_Undergrad</th>\n",
       "      <td>0.034038</td>\n",
       "    </tr>\n",
       "    <tr>\n",
       "      <th>Experience</th>\n",
       "      <td>0.033618</td>\n",
       "    </tr>\n",
       "    <tr>\n",
       "      <th>Postal Code</th>\n",
       "      <td>0.030508</td>\n",
       "    </tr>\n",
       "    <tr>\n",
       "      <th>InternetBanking</th>\n",
       "      <td>0.030256</td>\n",
       "    </tr>\n",
       "    <tr>\n",
       "      <th>Investment Account</th>\n",
       "      <td>0.000000</td>\n",
       "    </tr>\n",
       "  </tbody>\n",
       "</table>\n",
       "</div>"
      ],
      "text/plain": [
       "                     feature_importance\n",
       "CCAvgSpending                  0.282396\n",
       "Income                         0.150292\n",
       "Age                            0.120062\n",
       "Deposit Account                0.115120\n",
       "Family Size                    0.112060\n",
       "Education_Graduate             0.055519\n",
       "Mortgage                       0.036128\n",
       "Education_Undergrad            0.034038\n",
       "Experience                     0.033618\n",
       "Postal Code                    0.030508\n",
       "InternetBanking                0.030256\n",
       "Investment Account             0.000000"
      ]
     },
     "execution_count": 40,
     "metadata": {},
     "output_type": "execute_result"
    }
   ],
   "source": [
    "dtree_fi = pd.DataFrame(dtree.feature_importances_, X_test.columns, columns=['feature_importance'])\n",
    "dtree_fi.sort_values(by='feature_importance', ascending=False)"
   ]
  },
  {
   "cell_type": "markdown",
   "id": "c1f3f931",
   "metadata": {},
   "source": [
    "<b>CCAvgSpending</b> and <b>Income</b> appear to be the more important features"
   ]
  },
  {
   "cell_type": "code",
   "execution_count": 41,
   "id": "d250adaa",
   "metadata": {},
   "outputs": [
    {
     "data": {
      "text/plain": [
       "<seaborn.axisgrid.FacetGrid at 0x16861b5b0>"
      ]
     },
     "execution_count": 41,
     "metadata": {},
     "output_type": "execute_result"
    },
    {
     "data": {
      "image/png": "[encoded data removed]",
      "text/plain": [
       "<Figure size 607.986x500 with 1 Axes>"
      ]
     },
     "metadata": {},
     "output_type": "display_data"
    }
   ],
   "source": [
    "sns.displot(df[(df['Income']<100)], x='CCAvgSpending', hue='Personal Loan', bins=4)"
   ]
  },
  {
   "cell_type": "markdown",
   "id": "6b216d8f",
   "metadata": {},
   "source": [
    "All of the loan converted borrowers have avg. CC spending between 3-5k"
   ]
  },
  {
   "cell_type": "code",
   "execution_count": 42,
   "id": "cab4079e",
   "metadata": {},
   "outputs": [
    {
     "data": {
      "text/plain": [
       "<seaborn.axisgrid.FacetGrid at 0x168744610>"
      ]
     },
     "execution_count": 42,
     "metadata": {},
     "output_type": "execute_result"
    },
    {
     "data": {
      "image/png": "[encoded data removed]",
      "text/plain": [
       "<Figure size 607.986x500 with 1 Axes>"
      ]
     },
     "metadata": {},
     "output_type": "display_data"
    }
   ],
   "source": [
    "sns.displot(df[(df['Income']<100)&(df['CCAvgSpending']>3)&(df['CCAvgSpending']<5)], x='Income', hue='Personal Loan', bins=10)"
   ]
  },
  {
   "cell_type": "markdown",
   "id": "4dcba70c",
   "metadata": {},
   "source": [
    "higher concentration of personal loan borrower when income is at least 80k per year"
   ]
  },
  {
   "cell_type": "code",
   "execution_count": 43,
   "id": "a624787c",
   "metadata": {},
   "outputs": [
    {
     "name": "stdout",
     "output_type": "stream",
     "text": [
      "If we target individual with following traits\n",
      "1. Income between 80-110k\n",
      "2. CCAvgSpending between 3~5k\n",
      "\n",
      "\n",
      "We can expect to convert 49 out of total 153, success rates of 0.32.\n"
     ]
    }
   ],
   "source": [
    "success_rates = df[(df['Income']>80)&(df['Income']<110)&(df['CCAvgSpending']>3)&(df['CCAvgSpending']<5)]['Personal Loan'].mean().round(2)\n",
    "campaign_scope = df[(df['Income']>80)&(df['Income']<110)&(df['CCAvgSpending']>3)&(df['CCAvgSpending']<5)].count()[0]\n",
    "success_cnt = df[(df['Income']>80)&(df['Income']<110)&(df['CCAvgSpending']>3)&(df['CCAvgSpending']<5)&(df['Personal Loan']==1)].count()[0]\n",
    "\n",
    "\n",
    "print('If we target individual with following traits')\n",
    "print('1. Income between 80-110k')\n",
    "print('2. CCAvgSpending between 3~5k')\n",
    "print('\\n')\n",
    "print(f'We can expect to convert {success_cnt} out of total {campaign_scope}, success rates of {success_rates}.')"
   ]
  },
  {
   "cell_type": "markdown",
   "id": "44c51d5c",
   "metadata": {},
   "source": [
    "## Should we then plan a smaller scale campaign so as to not miss these 49 opportunities?\n",
    "\n",
    "My general view is <b>not to recommend a seperate campaign targeting this smaller group</b>. This is because planning a <b>campaign can be resource intense</b>, and it's likely <b>not a smart use of resource</b> to just target this small group of individuals. \n",
    "\n",
    "However, this also <b>hinge on the overall growth strategy of the bank</b>, if current strategy for this product is <b>aggressive growth</b>, sometimes a company will be willing to aggressively campaign even if the unit of economics is negative. \n",
    "\n",
    "Other than aggressive growth, we might also be interested to campaign on this small group <b>if they belong to the young emerging wealth segment</b> : individual who might not be earning for now but has potential for exponetial growth later on. If this minor group belongs to be the emerging wealth segment, <b>it might be worthwhile to invest early to increase engagement</b> with them as they tend to <b>yield higher Lifetime Value (LTV)</b> later on as their income increase.\n",
    "\n",
    "A quick way to check if these minor group has potential is to <b>check their age</b>"
   ]
  },
  {
   "cell_type": "code",
   "execution_count": 44,
   "id": "c8a0312e",
   "metadata": {},
   "outputs": [
    {
     "name": "stdout",
     "output_type": "stream",
     "text": [
      "Average age is 47.0\n"
     ]
    },
    {
     "data": {
      "image/png": "[encoded data removed]",
      "text/plain": [
       "<Figure size 500x500 with 1 Axes>"
      ]
     },
     "metadata": {},
     "output_type": "display_data"
    }
   ],
   "source": [
    "sns.displot(df[(df['Income']>80)&(df['Income']<110)&(df['CCAvgSpending']>3)&(df['CCAvgSpending']<5)&(df['Personal Loan']==1)]['Age'], bins=5)\n",
    "\n",
    "avg_age = df[(df['Income']>80)&(df['Income']<110)&(df['CCAvgSpending']>3)&(df['CCAvgSpending']<5)&(df['Personal Loan']==1)]['Age'].mean().round(0)\n",
    "\n",
    "print(f'Average age is {avg_age}')"
   ]
  },
  {
   "cell_type": "markdown",
   "id": "025edea3",
   "metadata": {},
   "source": [
    "So from the distribution plot and average age of 47, most borrowers in this minor group has limited income growth potential."
   ]
  }
 ],
 "metadata": {
  "kernelspec": {
   "display_name": "Python 3 (ipykernel)",
   "language": "python",
   "name": "python3"
  },
  "language_info": {
   "codemirror_mode": {
    "name": "ipython",
    "version": 3
   },
   "file_extension": ".py",
   "mimetype": "text/x-python",
   "name": "python",
   "nbconvert_exporter": "python",
   "pygments_lexer": "ipython3",
   "version": "3.10.9"
  }
 },
 "nbformat": 4,
 "nbformat_minor": 5
}
